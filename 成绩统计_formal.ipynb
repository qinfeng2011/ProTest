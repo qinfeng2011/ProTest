{
 "cells": [
  {
   "cell_type": "code",
   "execution_count": 1,
   "metadata": {
    "collapsed": true
   },
   "outputs": [],
   "source": [
    "f = open('report.txt', \"r\", encoding = 'utf8')"
   ]
  },
  {
   "cell_type": "code",
   "execution_count": 2,
   "metadata": {
    "collapsed": false
   },
   "outputs": [],
   "source": [
    "lines = f.readlines()"
   ]
  },
  {
   "cell_type": "code",
   "execution_count": 3,
   "metadata": {
    "collapsed": true
   },
   "outputs": [],
   "source": [
    "f.close()"
   ]
  },
  {
   "cell_type": "code",
   "execution_count": 4,
   "metadata": {
    "collapsed": true
   },
   "outputs": [],
   "source": [
    "# 获取学生姓名和分数\n",
    "name = []\n",
    "score = []\n",
    "for line in lines[1:len(lines)]:\n",
    "    name.append(line.split(' ')[0])\n",
    "    score.append(line.split(' ')[1:])"
   ]
  },
  {
   "cell_type": "code",
   "execution_count": 5,
   "metadata": {
    "collapsed": false
   },
   "outputs": [],
   "source": [
    "name_score = dict(zip(name,score))"
   ]
  },
  {
   "cell_type": "code",
   "execution_count": 6,
   "metadata": {
    "collapsed": false
   },
   "outputs": [],
   "source": [
    "# 对name_score进行处理获得各学生总成绩以及平均分\n",
    "#定义一个空列用来存放数据\n",
    "total_score = []\n",
    "for i in name_score.keys():#i是学生的姓名，使用字典的keys结构\n",
    "    \n",
    "    tot_score = []#定义一个空列表，用来存放第i个学生各学科的成绩\n",
    "    sum = 0\n",
    "    for j in name_score[i]:\n",
    "        tot_score.append(int(j))\n",
    "        sum = sum + int(j)\n",
    "    tot_score.append(i)\n",
    "    tot_score.append(sum)\n",
    "    tot_score.append(round(sum /(len(name_score[i])),2))\n",
    "    total_score.append(tot_score)"
   ]
  },
  {
   "cell_type": "code",
   "execution_count": 7,
   "metadata": {
    "collapsed": false
   },
   "outputs": [
    {
     "data": {
      "text/plain": [
       "[73, 85, 80, 82, 93, 41, 64, 87, 55, '小赵', 660, 73.33]"
      ]
     },
     "execution_count": 7,
     "metadata": {},
     "output_type": "execute_result"
    }
   ],
   "source": [
    "#检查total_score的结构\n",
    "total_score[0]"
   ]
  },
  {
   "cell_type": "code",
   "execution_count": 8,
   "metadata": {
    "collapsed": true
   },
   "outputs": [],
   "source": [
    "#根据平均分对学生成绩进行排序，由高至低\n",
    "total_score.sort(key = lambda x:x[-1], reverse = True)"
   ]
  },
  {
   "cell_type": "code",
   "execution_count": 9,
   "metadata": {
    "collapsed": false
   },
   "outputs": [],
   "source": [
    "#对各学科求和以及求平均值\n",
    "sum_major = []\n",
    "mean_major = []\n",
    "for i in range(9):\n",
    "    sum = 0\n",
    "    for j in total_score:\n",
    "        sum = sum + j[i]\n",
    "    sum_major.append(sum)\n",
    "    mean_major.append(round(sum /9,2))"
   ]
  },
  {
   "cell_type": "code",
   "execution_count": 10,
   "metadata": {
    "collapsed": true
   },
   "outputs": [],
   "source": [
    "name_result = []#建立空列表用来存放学生姓名\n",
    "for i in total_score:\n",
    "    name_result.append(i[9])"
   ]
  },
  {
   "cell_type": "code",
   "execution_count": 11,
   "metadata": {
    "collapsed": true
   },
   "outputs": [],
   "source": [
    "# 由于学生姓名也在total_score中间位置，需要放在放在首行\n",
    "for i in total_score:\n",
    "    del i[9]"
   ]
  },
  {
   "cell_type": "code",
   "execution_count": 12,
   "metadata": {
    "collapsed": false
   },
   "outputs": [
    {
     "data": {
      "text/plain": [
       "[94, 95, 72, 86, 78, 78, 43, 95, 96, 737, 81.89]"
      ]
     },
     "execution_count": 12,
     "metadata": {},
     "output_type": "execute_result"
    }
   ],
   "source": [
    "#检查数据结构\n",
    "total_score[0]"
   ]
  },
  {
   "cell_type": "code",
   "execution_count": 13,
   "metadata": {
    "collapsed": false
   },
   "outputs": [],
   "source": [
    "#将学生成绩中不满60分的改为“不及格”\n",
    "for i in range(9):\n",
    "    for j in total_score:\n",
    "        if j[i] < 60:\n",
    "            j[i] = \"不及格\""
   ]
  },
  {
   "cell_type": "code",
   "execution_count": 14,
   "metadata": {
    "collapsed": false
   },
   "outputs": [
    {
     "data": {
      "text/plain": [
       "[[94, 95, 72, 86, 78, 78, '不及格', 95, 96, 737, 81.89],\n",
       " [84, 93, '不及格', 94, 86, 71, 69, 81, 71, 708, 78.67],\n",
       " [97, 91, 88, 86, 86, '不及格', 61, '不及格', 82, 701, 77.89],\n",
       " [88, 74, '不及格', '不及格', 78, 87, 96, 88, 90, 687, 76.33],\n",
       " [86, '不及格', 86, '不及格', 76, 92, 79, 95, '不及格', 663, 73.67]]"
      ]
     },
     "execution_count": 14,
     "metadata": {},
     "output_type": "execute_result"
    }
   ],
   "source": [
    "#检查数据结构\n",
    "total_score[0:5]"
   ]
  },
  {
   "cell_type": "code",
   "execution_count": 15,
   "metadata": {
    "collapsed": false
   },
   "outputs": [],
   "source": [
    "#将各学科总成绩以及其平均分添加到total_score中\n",
    "total_score.append(sum_major)\n",
    "total_score.append(mean_major)\n",
    "#为name_result添加元素\n",
    "name_result.append('各学科总分')\n",
    "name_result.append('各学科平均分')"
   ]
  },
  {
   "cell_type": "code",
   "execution_count": 16,
   "metadata": {
    "collapsed": false
   },
   "outputs": [],
   "source": [
    "#为total_score添加各list的名称\n",
    "for i in range(len(name_result)):\n",
    "    total_score[i].insert(0, name_result[i])"
   ]
  },
  {
   "cell_type": "code",
   "execution_count": 17,
   "metadata": {
    "collapsed": false
   },
   "outputs": [
    {
     "data": {
      "text/plain": [
       "[['小沈', 94, 95, 72, 86, 78, 78, '不及格', 95, 96, 737, 81.89],\n",
       " ['小郑', 84, 93, '不及格', 94, 86, 71, 69, 81, 71, 708, 78.67],\n",
       " ['小朱', 97, 91, 88, 86, 86, '不及格', 61, '不及格', 82, 701, 77.89],\n",
       " ['小施', 88, 74, '不及格', '不及格', 78, 87, 96, 88, 90, 687, 76.33],\n",
       " ['小何', 86, '不及格', 86, '不及格', 76, 92, 79, 95, '不及格', 663, 73.67]]"
      ]
     },
     "execution_count": 17,
     "metadata": {},
     "output_type": "execute_result"
    }
   ],
   "source": [
    "#检查数据结构\n",
    "total_score[0:5]"
   ]
  },
  {
   "cell_type": "code",
   "execution_count": 18,
   "metadata": {
    "collapsed": true
   },
   "outputs": [],
   "source": [
    "#为结果添加各列名称\n",
    "head = [\"姓名\",\"语文\", \"数学\", \"英语\", \"物理\" ,\"化学\", \"生物\" ,\"政治\" ,\"历史\", \"地理\", \"总分\", \"平均分\"]\n",
    "total_score.insert(0,head)"
   ]
  },
  {
   "cell_type": "code",
   "execution_count": 19,
   "metadata": {
    "collapsed": false
   },
   "outputs": [],
   "source": [
    "#写入文件并保存\n",
    "rank = 0 # 用来显示学生成绩\n",
    "for i in total_score:\n",
    "    i.insert(0, rank)\n",
    "    rank = rank + 1\n",
    "    with open('score_result.txt', \"a\") as f:\n",
    "        f.write(str(i) + \"\\n\")"
   ]
  },
  {
   "cell_type": "code",
   "execution_count": null,
   "metadata": {
    "collapsed": true
   },
   "outputs": [],
   "source": []
  }
 ],
 "metadata": {
  "kernelspec": {
   "display_name": "Python 3",
   "language": "python",
   "name": "python3"
  },
  "language_info": {
   "codemirror_mode": {
    "name": "ipython",
    "version": 3
   },
   "file_extension": ".py",
   "mimetype": "text/x-python",
   "name": "python",
   "nbconvert_exporter": "python",
   "pygments_lexer": "ipython3",
   "version": "3.6.0"
  }
 },
 "nbformat": 4,
 "nbformat_minor": 2
}
